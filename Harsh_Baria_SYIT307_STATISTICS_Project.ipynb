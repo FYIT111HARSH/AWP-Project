{
  "nbformat": 4,
  "nbformat_minor": 0,
  "metadata": {
    "colab": {
      "name": "Harsh_Baria_SYIT307_STATISTICS_Project.ipynb",
      "provenance": [],
      "collapsed_sections": [],
      "authorship_tag": "ABX9TyPEyTZi+8POrumj2dhhNe3u",
      "include_colab_link": true
    },
    "kernelspec": {
      "name": "python3",
      "display_name": "Python 3"
    },
    "language_info": {
      "name": "python"
    }
  },
  "cells": [
    {
      "cell_type": "markdown",
      "metadata": {
        "id": "view-in-github",
        "colab_type": "text"
      },
      "source": [
        "<a href=\"https://colab.research.google.com/github/FYIT111HARSH/AWP-Project/blob/main/Harsh_Baria_SYIT307_STATISTICS_Project.ipynb\" target=\"_parent\"><img src=\"https://colab.research.google.com/assets/colab-badge.svg\" alt=\"Open In Colab\"/></a>"
      ]
    },
    {
      "cell_type": "code",
      "execution_count": null,
      "metadata": {
        "id": "LXSA1ghFhp7y"
      },
      "outputs": [],
      "source": [
        "import numpy as np\n",
        "import pandas as pd\n",
        "import seaborn as sns\n",
        "import matplotlib.pyplot as plt\n",
        "%matplotlib inline"
      ]
    },
    {
      "cell_type": "code",
      "source": [
        "from google.colab import drive\n",
        "drive.mount('/content/drive')"
      ],
      "metadata": {
        "colab": {
          "base_uri": "https://localhost:8080/"
        },
        "id": "6bBDC_Y8humz",
        "outputId": "533a3681-80ea-4a91-d941-81ddb4818495"
      },
      "execution_count": null,
      "outputs": [
        {
          "output_type": "stream",
          "name": "stdout",
          "text": [
            "Mounted at /content/drive\n"
          ]
        }
      ]
    },
    {
      "cell_type": "code",
      "source": [
        "df = pd.read_csv('/content/drive/MyDrive/Stats project 2022/E-Sports and Gaming.csv', sep=',')"
      ],
      "metadata": {
        "id": "PMSpVtU6hwk3"
      },
      "execution_count": null,
      "outputs": []
    },
    {
      "cell_type": "code",
      "source": [
        "#Dimensions of the data set\n",
        "row, col = df.shape\n",
        "print(row, col)"
      ],
      "metadata": {
        "colab": {
          "base_uri": "https://localhost:8080/"
        },
        "id": "LbSt3Bzvh77s",
        "outputId": "f7b0c749-59b2-4ebe-870f-032a9eca2ca4"
      },
      "execution_count": null,
      "outputs": [
        {
          "output_type": "stream",
          "name": "stdout",
          "text": [
            "26 9\n"
          ]
        }
      ]
    },
    {
      "cell_type": "code",
      "source": [
        "df.info()"
      ],
      "metadata": {
        "colab": {
          "base_uri": "https://localhost:8080/"
        },
        "id": "cMStnHpkig2P",
        "outputId": "eac0c54c-a257-4915-e5f8-10aef611249a"
      },
      "execution_count": null,
      "outputs": [
        {
          "output_type": "stream",
          "name": "stdout",
          "text": [
            "<class 'pandas.core.frame.DataFrame'>\n",
            "RangeIndex: 26 entries, 0 to 25\n",
            "Data columns (total 9 columns):\n",
            " #   Column                                                    Non-Null Count  Dtype \n",
            "---  ------                                                    --------------  ----- \n",
            " 0   Timestamp                                                 26 non-null     object\n",
            " 1   Email address                                             26 non-null     object\n",
            " 2   Name                                                      26 non-null     object\n",
            " 3   Age                                                       26 non-null     int64 \n",
            " 4   What Games do you play?                                   26 non-null     object\n",
            " 5   Do you prefer to play on PC or Mobile                     26 non-null     object\n",
            " 6   Your Parents support you to play E-Sports ?               26 non-null     object\n",
            " 7   Where was the first time you saw an E-Sports Match?       26 non-null     object\n",
            " 8   Do you think E-Sports as an Career is possible in India?  26 non-null     object\n",
            "dtypes: int64(1), object(8)\n",
            "memory usage: 2.0+ KB\n"
          ]
        }
      ]
    },
    {
      "cell_type": "code",
      "source": [
        "#remove spaces in columns names\n",
        "\n",
        "df. columns = df. columns. str. replace(' ','_')"
      ],
      "metadata": {
        "id": "r4E-h2Auikjg"
      },
      "execution_count": null,
      "outputs": []
    },
    {
      "cell_type": "code",
      "source": [
        "df.info()"
      ],
      "metadata": {
        "colab": {
          "base_uri": "https://localhost:8080/"
        },
        "id": "SMFd_NCTimpM",
        "outputId": "331efc34-9da1-4939-c294-2f9ffaf4a7b2"
      },
      "execution_count": null,
      "outputs": [
        {
          "output_type": "stream",
          "name": "stdout",
          "text": [
            "<class 'pandas.core.frame.DataFrame'>\n",
            "RangeIndex: 26 entries, 0 to 25\n",
            "Data columns (total 9 columns):\n",
            " #   Column                                                    Non-Null Count  Dtype \n",
            "---  ------                                                    --------------  ----- \n",
            " 0   Timestamp                                                 26 non-null     object\n",
            " 1   Email_address                                             26 non-null     object\n",
            " 2   Name                                                      26 non-null     object\n",
            " 3   Age                                                       26 non-null     int64 \n",
            " 4   What_Games_do_you_play?                                   26 non-null     object\n",
            " 5   Do_you_prefer_to_play_on_PC_or_Mobile                     26 non-null     object\n",
            " 6   Your_Parents_support_you_to_play_E-Sports_?_              26 non-null     object\n",
            " 7   Where_was_the_first_time_you_saw_an_E-Sports_Match?       26 non-null     object\n",
            " 8   Do_you_think_E-Sports_as_an_Career_is_possible_in_India?  26 non-null     object\n",
            "dtypes: int64(1), object(8)\n",
            "memory usage: 2.0+ KB\n"
          ]
        }
      ]
    },
    {
      "cell_type": "markdown",
      "source": [
        "**Data Visualization**"
      ],
      "metadata": {
        "id": "Egpu91Muiy9D"
      }
    },
    {
      "cell_type": "markdown",
      "source": [
        "\n",
        "\n",
        "> Age\n",
        "\n"
      ],
      "metadata": {
        "id": "iiBu8kJ0jPau"
      }
    },
    {
      "cell_type": "code",
      "source": [
        "plt.figure(figsize=(6,4))\n",
        "\n",
        "sns.countplot(x='Age',data=df) "
      ],
      "metadata": {
        "colab": {
          "base_uri": "https://localhost:8080/",
          "height": 296
        },
        "id": "gLxu1Qxki2Y3",
        "outputId": "127936c3-bf62-4b2e-cb3b-212e87cd3897"
      },
      "execution_count": null,
      "outputs": [
        {
          "output_type": "execute_result",
          "data": {
            "text/plain": [
              "<matplotlib.axes._subplots.AxesSubplot at 0x7f367c6e1750>"
            ]
          },
          "metadata": {},
          "execution_count": 8
        },
        {
          "output_type": "display_data",
          "data": {
            "text/plain": [
              "<Figure size 432x288 with 1 Axes>"
            ],
            "image/png": "[encoded data removed]"
          },
          "metadata": {
            "needs_background": "light"
          }
        }
      ]
    },
    {
      "cell_type": "markdown",
      "source": [
        "\n",
        "\n",
        "> Games they Play\n",
        "\n"
      ],
      "metadata": {
        "id": "KajhvD3blbjJ"
      }
    },
    {
      "cell_type": "code",
      "source": [
        "game_count = df.groupby('What_Games_do_you_play?')['What_Games_do_you_play?'].count()\n",
        "game_count"
      ],
      "metadata": {
        "colab": {
          "base_uri": "https://localhost:8080/"
        },
        "id": "eXPa2D6xlf6N",
        "outputId": "3242cc59-2472-4a8e-beaf-e43267d3f6e5"
      },
      "execution_count": null,
      "outputs": [
        {
          "output_type": "execute_result",
          "data": {
            "text/plain": [
              "What_Games_do_you_play?\n",
              "BGMI                                   2\n",
              "BGMI, COC                              1\n",
              "BGMI, CODM                             1\n",
              "BGMI, CODM, Spiderman, GTA 5           1\n",
              "BGMI, CODM, Valorant                   2\n",
              "BGMI, CODM, Valorant, DOTA 2, CS:GO    1\n",
              "BGMI, Valorant                         3\n",
              "BGMI, Valorant, CS:GO                  1\n",
              "CODM                                   2\n",
              "CODM, Valorant                         1\n",
              "DOTA 2                                 1\n",
              "DOTA 2, Subway surfers                 1\n",
              "Subway surfers                         1\n",
              "Subway surfers, cooking mania          1\n",
              "Valorant                               2\n",
              "Valorant, CS:GO                        2\n",
              "Valorant, DOTA 2                       1\n",
              "Valorant, DOTA 2, CS:GO                1\n",
              "Valorant, GTA V                        1\n",
              "Name: What_Games_do_you_play?, dtype: int64"
            ]
          },
          "metadata": {},
          "execution_count": 9
        }
      ]
    },
    {
      "cell_type": "code",
      "source": [
        "#NOT WORKING , TAKEN FROM FORMS\n",
        "\n",
        "plt.figure(figsize=(6,6))\n",
        "game_count = df.groupby('What_Games_do_you_play?')['What_Games_do_you_play?'].count()\n",
        "\n",
        "plt.bar(game_count.index, game_count.values)\n",
        "\n",
        "plt.title('game count')"
      ],
      "metadata": {
        "colab": {
          "base_uri": "https://localhost:8080/",
          "height": 407
        },
        "id": "WQ4z16ublyp0",
        "outputId": "6de8046c-07ec-420d-8d9a-682ddca38ffe"
      },
      "execution_count": null,
      "outputs": [
        {
          "output_type": "execute_result",
          "data": {
            "text/plain": [
              "Text(0.5, 1.0, 'game count')"
            ]
          },
          "metadata": {},
          "execution_count": 53
        },
        {
          "output_type": "display_data",
          "data": {
            "text/plain": [
              "<Figure size 432x432 with 1 Axes>"
            ],
            "image/png": "[encoded data removed]"
          },
          "metadata": {
            "needs_background": "light"
          }
        }
      ]
    },
    {
      "cell_type": "markdown",
      "source": [
        "> Prefered Platform to Play\n",
        "\n",
        "\n",
        "\n"
      ],
      "metadata": {
        "id": "D_WYYeqMjpkO"
      }
    },
    {
      "cell_type": "code",
      "source": [
        "plat_count = df.groupby('Do_you_prefer_to_play_on_PC_or_Mobile')['Do_you_prefer_to_play_on_PC_or_Mobile'].count()\n",
        "plat_count"
      ],
      "metadata": {
        "colab": {
          "base_uri": "https://localhost:8080/"
        },
        "id": "07Sr2bXyjisM",
        "outputId": "c1a1ad8d-9e34-4476-c0ee-12cf1b935e6e"
      },
      "execution_count": null,
      "outputs": [
        {
          "output_type": "execute_result",
          "data": {
            "text/plain": [
              "Do_you_prefer_to_play_on_PC_or_Mobile\n",
              "Mobile     8\n",
              "PC        18\n",
              "Name: Do_you_prefer_to_play_on_PC_or_Mobile, dtype: int64"
            ]
          },
          "metadata": {},
          "execution_count": 10
        }
      ]
    },
    {
      "cell_type": "code",
      "source": [
        "plt.figure(figsize=(6, 6))\n",
        "plt.title('Prefered Platform to Play')\n",
        "plt.pie(plat_count.values, labels = ['Mobile', 'PC'], autopct = \"%2.2f%%\", textprops = {'fontsize':15})\n",
        "plt.show()"
      ],
      "metadata": {
        "colab": {
          "base_uri": "https://localhost:8080/",
          "height": 373
        },
        "id": "F4BQLvsMkYoy",
        "outputId": "d01f76e9-6643-47f9-d50b-b4c844ae2256"
      },
      "execution_count": null,
      "outputs": [
        {
          "output_type": "display_data",
          "data": {
            "text/plain": [
              "<Figure size 432x432 with 1 Axes>"
            ],
            "image/png": "[encoded data removed]"
          },
          "metadata": {}
        }
      ]
    },
    {
      "cell_type": "markdown",
      "source": [
        "\n",
        "\n",
        "> Parents Support in Gaming\n",
        "\n"
      ],
      "metadata": {
        "id": "QseD3T_jmPV5"
      }
    },
    {
      "cell_type": "code",
      "source": [
        "plt.figure(figsize=(4, 6))\n",
        "support_count = df.groupby('Your_Parents_support_you_to_play_E-Sports_?_')['Your_Parents_support_you_to_play_E-Sports_?_'].count()\n",
        "\n",
        "plt.bar(support_count.index, support_count.values)\n",
        "\n",
        "plt.title('Support from Parents')"
      ],
      "metadata": {
        "colab": {
          "base_uri": "https://localhost:8080/",
          "height": 407
        },
        "id": "snkm7YD1mT3A",
        "outputId": "f742b945-7151-4f1d-99ab-88dff1c4fcd3"
      },
      "execution_count": null,
      "outputs": [
        {
          "output_type": "execute_result",
          "data": {
            "text/plain": [
              "Text(0.5, 1.0, 'Support from Parents')"
            ]
          },
          "metadata": {},
          "execution_count": 12
        },
        {
          "output_type": "display_data",
          "data": {
            "text/plain": [
              "<Figure size 288x432 with 1 Axes>"
            ],
            "image/png": "[encoded data removed]"
          },
          "metadata": {
            "needs_background": "light"
          }
        }
      ]
    },
    {
      "cell_type": "code",
      "source": [
        "plt.figure(figsize=(6, 6))\n",
        "plt.title('Support from Parents')\n",
        "plt.pie(support_count.values, labels = ['No', 'Yes'], autopct = \"%2.2f%%\", textprops = {'fontsize':15})\n",
        "plt.show()"
      ],
      "metadata": {
        "colab": {
          "base_uri": "https://localhost:8080/",
          "height": 373
        },
        "id": "S1mbHv4h7JeU",
        "outputId": "d84db00e-62e8-498e-c0bc-35878676aece"
      },
      "execution_count": null,
      "outputs": [
        {
          "output_type": "display_data",
          "data": {
            "text/plain": [
              "<Figure size 432x432 with 1 Axes>"
            ],
            "image/png": "[encoded data removed]"
          },
          "metadata": {}
        }
      ]
    },
    {
      "cell_type": "markdown",
      "source": [
        "\n",
        "\n",
        "> Platform they first saw E-Sports Match\n",
        "\n"
      ],
      "metadata": {
        "id": "L9T4hoxFm2dy"
      }
    },
    {
      "cell_type": "code",
      "source": [
        "plt.figure(figsize=(9, 9))\n",
        "platform_count = df.groupby('Where_was_the_first_time_you_saw_an_E-Sports_Match?')['Where_was_the_first_time_you_saw_an_E-Sports_Match?'].count()\n",
        "\n",
        "plt.bar(platform_count.index, platform_count.values)\n",
        "\n",
        "plt.title('Platform they watched E-Sports')"
      ],
      "metadata": {
        "colab": {
          "base_uri": "https://localhost:8080/",
          "height": 570
        },
        "id": "Qs8P_wDMm7C8",
        "outputId": "5148323b-1eb8-4f49-f091-4e8b135e6680"
      },
      "execution_count": null,
      "outputs": [
        {
          "output_type": "execute_result",
          "data": {
            "text/plain": [
              "Text(0.5, 1.0, 'Platform they watched E-Sports')"
            ]
          },
          "metadata": {},
          "execution_count": 14
        },
        {
          "output_type": "display_data",
          "data": {
            "text/plain": [
              "<Figure size 648x648 with 1 Axes>"
            ],
            "image/png": "[encoded data removed]"
          },
          "metadata": {
            "needs_background": "light"
          }
        }
      ]
    },
    {
      "cell_type": "markdown",
      "source": [
        "\n",
        "\n",
        "> Gaming as a Career in India\n",
        "\n"
      ],
      "metadata": {
        "id": "x-rpFB0knr1l"
      }
    },
    {
      "cell_type": "code",
      "source": [
        "career_count = df.groupby('Do_you_think_E-Sports_as_an_Career_is_possible_in_India?')['Do_you_think_E-Sports_as_an_Career_is_possible_in_India?'].count()\n",
        "career_count"
      ],
      "metadata": {
        "colab": {
          "base_uri": "https://localhost:8080/"
        },
        "id": "N_jmH2kanwGf",
        "outputId": "4045f453-45be-48b6-a46e-8830c35e6a94"
      },
      "execution_count": null,
      "outputs": [
        {
          "output_type": "execute_result",
          "data": {
            "text/plain": [
              "Do_you_think_E-Sports_as_an_Career_is_possible_in_India?\n",
              "No      3\n",
              "Yes    23\n",
              "Name: Do_you_think_E-Sports_as_an_Career_is_possible_in_India?, dtype: int64"
            ]
          },
          "metadata": {},
          "execution_count": 15
        }
      ]
    },
    {
      "cell_type": "code",
      "source": [
        "plt.figure(figsize=(6, 6))\n",
        "plt.title('Gaming as a Career in India')\n",
        "plt.pie(career_count.values, labels = ['No', 'Yes'], autopct = \"%2.2f%%\", textprops = {'fontsize':15})\n",
        "plt.show()"
      ],
      "metadata": {
        "colab": {
          "base_uri": "https://localhost:8080/",
          "height": 373
        },
        "id": "fAFQZl08oB07",
        "outputId": "1d398045-864b-444a-ccf5-1f715110baf9"
      },
      "execution_count": null,
      "outputs": [
        {
          "output_type": "display_data",
          "data": {
            "text/plain": [
              "<Figure size 432x432 with 1 Axes>"
            ],
            "image/png": "[encoded data removed]"
          },
          "metadata": {}
        }
      ]
    },
    {
      "cell_type": "markdown",
      "source": [
        "\n",
        "\n",
        " > **END OF GRAPHS**\n",
        "\n",
        "\n"
      ],
      "metadata": {
        "id": "FzMQbor-3hra"
      }
    }
  ]
}